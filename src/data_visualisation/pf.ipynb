{
 "cells": [
  {
   "cell_type": "code",
   "execution_count": 2,
   "metadata": {},
   "outputs": [],
   "source": [
    "import requests\n",
    "import pandas as pd\n",
    "import plotly.express as px\n",
    "from plotly.offline import plot\n",
    "import plotly.graph_objects as go"
   ]
  },
  {
   "cell_type": "code",
   "execution_count": 23,
   "metadata": {},
   "outputs": [
    {
     "name": "stderr",
     "output_type": "stream",
     "text": [
      "/var/folders/gl/c9w1jr1j3jl_8w0jvkm4wz8m0000gp/T/ipykernel_22421/1721422418.py:23: SettingWithCopyWarning:\n",
      "\n",
      "\n",
      "A value is trying to be set on a copy of a slice from a DataFrame.\n",
      "Try using .loc[row_indexer,col_indexer] = value instead\n",
      "\n",
      "See the caveats in the documentation: https://pandas.pydata.org/pandas-docs/stable/user_guide/indexing.html#returning-a-view-versus-a-copy\n",
      "\n"
     ]
    },
    {
     "data": {
      "text/plain": [
       "goals_scored        int64\n",
       "expected_goals    float64\n",
       "round               int64\n",
       "dtype: object"
      ]
     },
     "execution_count": 23,
     "metadata": {},
     "output_type": "execute_result"
    }
   ],
   "source": [
    "# res = requests.get(f'https://fantasy.premierleague.com/api/element-summary/318/')\n",
    "# data = res.json()\n",
    "# df = pd.DataFrame(data=data['history'])\n",
    "\n",
    "# g_vs_xg = df[[\"goals_scored\", \"expected_goals\", \"round\"]]\n",
    "# g_vs_xg.loc[:, \"goals_scored\"] = g_vs_xg[\"goals_scored\"].astype(float) \n",
    "# g_vs_xg.loc[:, \"goals_scored\"] = g_vs_xg[\"goals_scored\"].cumsum()\n",
    "# g_vs_xg.loc[:, \"expected_goals\"] = g_vs_xg[\"expected_goals\"].astype(float).cumsum()\n",
    "# g_vs_xg.set_index(\"round\", inplace=True)\n",
    "\n",
    "# # graph = px.line(g_vs_xg).update_layout(xaxis_title=\"Gameweek\", yaxis_title=\"Goals/xG\")\n",
    "# # graph\n",
    "# g_vs_xg\n",
    "\n",
    "res = requests.get('https://fantasy.premierleague.com/api/element-summary/318/')\n",
    "data = res.json()\n",
    "\n",
    "df = pd.DataFrame(data=data['history'])\n",
    "\n",
    "# g_vs_xg = df[[\"expected_goals\", \"round\"]]\n",
    "g_vs_xg = df[[\"goals_scored\", \"expected_goals\", \"round\"]]\n",
    "\n",
    "g_vs_xg['expected_goals'] = pd.to_numeric(g_vs_xg['expected_goals'])\n",
    "\n",
    "g_vs_xg.loc[:, \"goals_scored\"] = g_vs_xg[\"goals_scored\"].cumsum()\n",
    "g_vs_xg.loc[:, \"expected_goals\"] = g_vs_xg[\"expected_goals\"].cumsum()\n",
    "\n",
    "g_vs_xg.set_index(\"round\", inplace=True)\n",
    "\n",
    "# g_vs_xg.dtypes\n",
    "\n",
    "graph = px.line(g_vs_xg)#.update_layout(xaxis_title=\"Gameweek\", yaxis_title=\"Goals/xG\")\n",
    "# html_graph = plot(graph, output_type=\"div\")\n",
    "\n",
    "# # html_graph\n",
    "graph\n",
    "\n",
    "\n",
    "    # result = {k: v.drop('name', axis=1).reset_index(drop=True) for k, v in df_players[['first_name', 'second_name', 'id_x', 'name']].groupby('name')}\n",
    "\n"
   ]
  }
 ],
 "metadata": {
  "kernelspec": {
   "display_name": "venv",
   "language": "python",
   "name": "python3"
  },
  "language_info": {
   "codemirror_mode": {
    "name": "ipython",
    "version": 3
   },
   "file_extension": ".py",
   "mimetype": "text/x-python",
   "name": "python",
   "nbconvert_exporter": "python",
   "pygments_lexer": "ipython3",
   "version": "3.9.11"
  },
  "orig_nbformat": 4
 },
 "nbformat": 4,
 "nbformat_minor": 2
}
